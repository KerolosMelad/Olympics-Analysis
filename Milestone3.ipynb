{
 "cells": [
  {
   "cell_type": "code",
   "execution_count": null,
   "id": "2899a048-6793-4c54-a367-478a4a507706",
   "metadata": {},
   "outputs": [],
   "source": [
    "import numpy as np \n",
    "import pandas as pd \n",
    "import matplotlib.pyplot as plt\n",
    "import seaborn as sns\n",
    "from sklearn.preprocessing import OneHotEncoder\n",
    "from sklearn.linear_model import LinearRegression\n",
    "import math\n",
    "\n",
    "# AIRFLOW\n",
    "from datetime import datetime, timedelta\n",
    "\n",
    "from airflow import DAG\n",
    "from airflow.operators.bash import BashOperator\n",
    "from airflow.operators.python_operator import PythonOperator\n"
   ]
  },
  {
   "cell_type": "code",
   "execution_count": null,
   "id": "fea6621c-9aad-43fb-8d0f-6ade2e6c6047",
   "metadata": {},
   "outputs": [],
   "source": []
  },
  {
   "cell_type": "code",
   "execution_count": 7,
   "id": "78c1f20d-c1e7-4b1f-a386-c2ac1cf627c9",
   "metadata": {},
   "outputs": [],
   "source": [
    "# DEFAULT ARGS\n",
    "default_args = {\n",
    "    'owner': 'airflow',\n",
    "    'depends_on_past': False,\n",
    "    'start_date': datetime(2019, 1, 1),\n",
    "}\n",
    "\n",
    "# THE DAG\n",
    "dag = DAG(\n",
    "    dag_id='milestone3_dag',\n",
    "    default_args=default_args,\n",
    "    description='Milestone3 dag',\n",
    "    schedule_interval='@once',\n",
    "    catchup=False,\n",
    ")"
   ]
  },
  {
   "cell_type": "markdown",
   "id": "6d5462a0-1893-4047-8f3e-391833fbd483",
   "metadata": {},
   "source": [
    "# 1-Extract"
   ]
  },
  {
   "cell_type": "code",
   "execution_count": 15,
   "id": "82772d02-d50d-453e-b8e8-9cb284b66c2b",
   "metadata": {},
   "outputs": [],
   "source": [
    "def reading():\n",
    "    print('STARTED PIPELINE, READ DATA')"
   ]
  },
  {
   "cell_type": "code",
   "execution_count": 16,
   "id": "66189d00-09bd-4fd5-95b5-661b36b5aa4d",
   "metadata": {},
   "outputs": [],
   "source": [
    "def read_data(athlete_df_path ,regoins_df_path,medals_df_path):\n",
    "    athlete_df = pd.read_csv(athlete_df_path)\n",
    "    regoins_df = pd.read_csv(regoins_df_path)\n",
    "    medals_df = pd.read_excel(medals_df_path)\n",
    "    return athlete_df ,regoins_df ,medals_df\n"
   ]
  },
  {
   "cell_type": "markdown",
   "id": "d57faa85-edfc-40fa-b534-c98d33e9366a",
   "metadata": {},
   "source": [
    "# 3 - load"
   ]
  },
  {
   "cell_type": "code",
   "execution_count": 8,
   "id": "5adc7f35-3943-4153-a354-f89e448f2770",
   "metadata": {},
   "outputs": [],
   "source": [
    "def save_df(df,Path): \n",
    "    df.to_csv(Path, index = False)\n",
    "def saving():\n",
    "    print('ENDED PIPELINE, SAVED DATA')\n"
   ]
  },
  {
   "cell_type": "markdown",
   "id": "68699b7b-8273-49b3-8132-a816b29ee1ff",
   "metadata": {},
   "source": [
    "# 2-a Data Cleaning"
   ]
  },
  {
   "cell_type": "code",
   "execution_count": 13,
   "id": "16346fbb-8516-491a-85de-7608a2d36b15",
   "metadata": {},
   "outputs": [],
   "source": [
    "def IQR_technique(column,df): # Helper method\n",
    "    Q1 = df[column].quantile(0.25)\n",
    "    Q3 = df[column].quantile(0.75)\n",
    "    IQR = Q3 - Q1\n",
    "    cut_off = IQR * 1.5\n",
    "    lower = Q1 - cut_off\n",
    "    upper =  Q3 + cut_off\n",
    "    return lower ,upper"
   ]
  },
  {
   "cell_type": "code",
   "execution_count": 14,
   "id": "aaa21510-4c05-4b83-bd5e-280efaf86e01",
   "metadata": {},
   "outputs": [],
   "source": [
    "def data_cleaning(): #in This function, We detect isolate, outliers and impute the missing values ... \n",
    "    athlete_df ,regoins_df ,medals_df = read_data('datasets/athlete_events.csv' ,'datasets/noc_regions.csv',\n",
    "                                                  'datasets/Medals.xlsx')\n",
    "    regoins_df.drop('notes' ,axis = 1, inplace= True)\n",
    "    clean_df = athlete_df.copy()\n",
    "    cat_col= clean_df[['Sex','Season' , 'Medal' ]]\n",
    "    encoder = OneHotEncoder(handle_unknown='ignore',sparse=False)\n",
    "    coded_col= pd.DataFrame(encoder.fit_transform(cat_col))\n",
    "    coded_col.index = athlete_df.index\n",
    "    coded_col.columns = encoder.get_feature_names_out(cat_col.columns)\n",
    "    clean_df = pd.concat([clean_df.drop(cat_col.columns, axis=1), coded_col], axis=1)\n",
    "    clean_df = clean_df.rename(columns={'Medal_nan': 'No_Medal'})\n",
    "    clean_df['Age'] = clean_df['Age'].fillna(clean_df['Sport'].map(clean_df.groupby('Sport')['Age'].median()))\n",
    "    # Weight imputation \n",
    "    data = clean_df.dropna(subset = ['Weight', 'Height'] ,axis =  0 )\n",
    "    X = data[['Age','Sex_M','Height']]\n",
    "    y = data['Weight']\n",
    "    W_reg = LinearRegression().fit(X.values, y.values)\n",
    "    height_mean = clean_df['Height'].median()\n",
    "    for i, row in clean_df.iterrows():\n",
    "        if math.isnan(row['Weight']):\n",
    "            x=[row['Age'] , row['Sex_M'] ]\n",
    "            if  math.isnan(row['Height']):\n",
    "                x = x+[height_mean]\n",
    "            else:\n",
    "                x = x+[row['Height']]\n",
    "\n",
    "            predicted = W_reg.predict([x])\n",
    "            clean_df.at[i,'Weight'] = predicted\n",
    "            \n",
    "    data = clean_df.dropna(subset = ['Height'] ,axis =  0 )\n",
    "    X = data[['Age','Sex_M','Weight']]\n",
    "    y = data['Height']\n",
    "    W_reg = LinearRegression().fit(X.values, y.values)\n",
    "    for i, row in clean_df.iterrows():\n",
    "        if math.isnan(row['Height']):\n",
    "            x=[row['Age'] , row['Sex_M'] ,row['Weight'] ]\n",
    "            predicted = W_reg.predict([x])\n",
    "            clean_df.at[i,'Height'] = predicted\n",
    "            \n",
    "    clean_WoOutliers_df= clean_df.copy()\n",
    "    \n",
    "    lower ,upper =IQR_technique('Age',clean_WoOutliers_df)\n",
    "    qurey1= clean_WoOutliers_df[clean_WoOutliers_df['Age']< lower]\n",
    "    qurey1 =qurey1[ qurey1['No_Medal'] == 1]\n",
    "    clean_WoOutliers_df.drop(qurey1.index, inplace=True)\n",
    "    Age_outliers = pd.concat([clean_WoOutliers_df[clean_WoOutliers_df['Age']> upper], clean_WoOutliers_df[clean_WoOutliers_df['Age']< lower] ],axis=0)\n",
    "    clean_WoOutliers_df = clean_WoOutliers_df[clean_WoOutliers_df['Age']< upper]\n",
    "    clean_WoOutliers_df = clean_WoOutliers_df[clean_WoOutliers_df['Age']> lower]\n",
    "    lower ,upper =IQR_technique('Weight',clean_WoOutliers_df)\n",
    "    query2 = clean_WoOutliers_df[clean_WoOutliers_df['Weight']< lower ]\n",
    "    query2 = query2 [query2['Height']> 170]\n",
    "    clean_WoOutliers_df.drop(query2.index, inplace=True)\n",
    "    Weight_outliers = pd.concat([clean_WoOutliers_df[clean_WoOutliers_df['Weight']> upper], clean_WoOutliers_df[clean_WoOutliers_df['Weight']< lower] ],axis=0)\n",
    "    clean_WoOutliers_df = clean_WoOutliers_df[clean_WoOutliers_df['Weight']< upper]\n",
    "    clean_WoOutliers_df = clean_WoOutliers_df[clean_WoOutliers_df['Weight']> lower]\n",
    "    lower ,upper =IQR_technique('Height',clean_WoOutliers_df)\n",
    "    Height_outliers = pd.concat([clean_WoOutliers_df[clean_WoOutliers_df['Height']> upper], clean_WoOutliers_df[clean_WoOutliers_df['Height']< lower] ],axis=0)\n",
    "    outliers = pd.concat([Age_outliers , Weight_outliers,Height_outliers ],axis=0)\n",
    "    clean_WoOutliers_df = clean_WoOutliers_df[clean_WoOutliers_df['Height']< upper]\n",
    "    clean_WoOutliers_df = clean_WoOutliers_df[clean_WoOutliers_df['Height']> lower]\n",
    "    save_df(clean_WoOutliers_df,'datasets/results/athletes_without_outliers.csv')\n",
    "    save_df(outliers,'datasets/results/athletes_outliers.csv')\n",
    "    print('DATA READING AND CLEANING SUCCESS')\n"
   ]
  },
  {
   "cell_type": "markdown",
   "id": "23a92204-990b-4925-8f44-8f542d99d76a",
   "metadata": {},
   "source": [
    "# 2-b Data Integration"
   ]
  },
  {
   "cell_type": "code",
   "execution_count": 11,
   "id": "f84d53bc-08aa-4e3c-aa44-22ffd87993e0",
   "metadata": {},
   "outputs": [],
   "source": [
    "def unify(df):   # Helper method to unify country names on all dataset, pre-implemeted in MS2 \n",
    "    df.replace('USA', \"United States of America\", inplace = True)\n",
    "    df.replace('Tanzania', \"United Republic of Tanzania\", inplace = True)\n",
    "    df.replace('Democratic Republic of Congo', \"Democratic Republic of the Congo\", inplace = True)\n",
    "    df.replace('Congo', \"Republic of the Congo\", inplace = True)\n",
    "    df.replace('Lao', \"Laos\", inplace = True)\n",
    "    df.replace('Syrian Arab Republic', \"Syria\", inplace = True)\n",
    "    df.replace('Serbia', \"Republic of Serbia\", inplace = True)\n",
    "    df.replace('Czechia', \"Czech Republic\", inplace = True)\n",
    "    df.replace('UAE', \"United Arab Emirates\", inplace = True)\n",
    "    df.replace('UK', \"United Kingdom\", inplace = True)\n",
    "    df.replace('United States', \"United States of America\", inplace = True)\n",
    "    df.replace('Czech Republic (Czechia)', \"Czech Republic\", inplace = True)\n",
    "    df.replace('DR Congo', \"Democratic Republic of the Congo\", inplace = True)\n",
    "    df.replace('Serbia', \"Republic of Serbia\", inplace = True)\n",
    "    df.replace('Tanzania', \"United Republic of Tanzania\", inplace = True)\n",
    "    df.replace('Great Britain', \"United Kingdom\", inplace = True)\n",
    "    df.replace(\"People's Republic of China\", \"China\", inplace = True)\n",
    "    df.replace(\"ROC\", \"Russia\", inplace = True)\n",
    "    "
   ]
  },
  {
   "cell_type": "code",
   "execution_count": 6,
   "id": "3a39c3b6-de1d-4074-91d5-002592b667c3",
   "metadata": {},
   "outputs": [],
   "source": [
    "def Aggregate_df(df):  # Helper method to Aggregate athletes dataset, pre-implemeted in MS2\n",
    "    df['Gold']=0\n",
    "    df['Silver']=0\n",
    "    df['Bronze']=0\n",
    "    df['Total']=0\n",
    "    \n",
    "    y_t_clean =df.groupby(['Year','Team'])\n",
    "    g=y_t_clean['Medal_Gold'].sum().to_dict()\n",
    "    s=y_t_clean['Medal_Silver'].sum().to_dict()\n",
    "    b=y_t_clean['Medal_Bronze'].sum().to_dict()\n",
    "    \n",
    "    golds=[]\n",
    "    slivers = [] \n",
    "    bronzes =[]\n",
    "    for i, row in df.iterrows():\n",
    "        golds.append(g[( row['Year'] ,row['Team'] )] )\n",
    "        slivers.append(s[( row['Year'] ,row['Team'] )] )\n",
    "        bronzes.append(b[( row['Year'] ,row['Team'] )] )\n",
    "\n",
    "    df['Gold'] = golds\n",
    "    df['Silver'] = slivers\n",
    "    df['Bronze'] = bronzes\n",
    "    df['Total'] = df['Gold']+df['Silver']+df['Bronze']\n",
    "    return df"
   ]
  },
  {
   "cell_type": "code",
   "execution_count": 12,
   "id": "bb12ea94-5521-4dc6-b552-1337db8a3b9d",
   "metadata": {},
   "outputs": [],
   "source": [
    "def data_integration(): #in This function, we integrate the aggregated athletes df and medals_df ...\n",
    "    Athletes_clean = pd.read_csv('datasets/results/athletes_without_outliers.csv')\n",
    "    outliers = pd.read_csv('datasets/results/athletes_outliers.csv')\n",
    "    medals_df = pd.read_excel('datasets/Medals.xlsx')\n",
    "    regoins_df = pd.read_csv('datasets/noc_regions.csv')\n",
    "    \n",
    "    mergerd_Clean_df = pd.merge(Athletes_clean, regoins_df, on='NOC', how='left')\n",
    "    mergerd_outliers_df = pd.merge(outliers, regoins_df, on='NOC', how='left')\n",
    "    unify(mergerd_Clean_df)\n",
    "    unify(mergerd_outliers_df)\n",
    "\n",
    "    unify(medals_df)\n",
    "    df_org =  pd.concat([mergerd_Clean_df,mergerd_outliers_df],axis=0)\n",
    "    df_org['region'] = df_org['region'].fillna(df_org['NOC'].map(df_org.groupby('NOC')['region'].agg(pd.Series.mode)))\n",
    "    aggregated_df = Aggregate_df(df_org)\n",
    "\n",
    "    medals_df['Year'] =2021\n",
    "    medals_df.columns = ['Rank','Team','Gold','Silver','Bronze','Total','Rank by Total','Year']\n",
    "    medals_df = medals_df[['Team','Gold','Silver','Bronze','Total','Year' ]]\n",
    "    appended_df = aggregated_df.append(medals_df)\n",
    "    \n",
    "    save_df(appended_df,'datasets/results/aggregated_athletes_medals.csv')\n",
    "    save_df(df_org,'datasets/results/full_clean_athletes.csv')\n",
    "    save_df(mergerd_Clean_df,'datasets/results/without_outliers_athletes_regions.csv')\n",
    "    save_df(mergerd_outliers_df,'datasets/results/outliers_athletes_regions.csv')\n",
    "    print('DATA INTEGRATION SUCCESS')\n",
    "    \n",
    "\n"
   ]
  },
  {
   "cell_type": "markdown",
   "id": "2f7df31c-4963-4a97-aeee-fdfeab19459f",
   "metadata": {},
   "source": [
    "# 2-c Feature Engineering"
   ]
  },
  {
   "cell_type": "code",
   "execution_count": 8,
   "id": "64b2e5af-a1ed-4677-b39d-5d71ed3c8ea4",
   "metadata": {},
   "outputs": [],
   "source": [
    "def calculate_BMI(df):  # Helper method to  get BMI category of the athlete\n",
    "    BMI =[]\n",
    "    for i, row in df.iterrows():\n",
    "        HinM=row['Height']/100\n",
    "        bmi= row['Weight']/(HinM*HinM)\n",
    "        if bmi<18.5:\n",
    "            BMI.append('Underweight')\n",
    "        elif bmi<25:\n",
    "            BMI.append('Normal')\n",
    "        elif bmi<30:   \n",
    "            BMI.append('Overweight')\n",
    "        else:\n",
    "            BMI.append('Obese')\n",
    "    \n",
    "    df['BMI Group'] = BMI"
   ]
  },
  {
   "cell_type": "code",
   "execution_count": 9,
   "id": "697a3199-de8b-46d6-9cc3-569904ec39e2",
   "metadata": {},
   "outputs": [],
   "source": [
    "def calculate_AgeGroup(df):  # Helper method to  get Age group of the athlete\n",
    "    age_group =[]\n",
    "    for i, row in df.iterrows():\n",
    "        age=row['Age']\n",
    "        if(age<20):\n",
    "            age_group.append('Too Young')\n",
    "        elif(age<30):\n",
    "            age_group.append('Youth')\n",
    "        elif(age<50):\n",
    "            age_group.append('Middle Age')\n",
    "        elif(age<100):\n",
    "            age_group.append('Old Adult')\n",
    "\n",
    "    df['Age Group'] = age_group\n"
   ]
  },
  {
   "cell_type": "code",
   "execution_count": 13,
   "id": "fc5bb783-2b9f-48ad-b71d-4de2a5687d50",
   "metadata": {},
   "outputs": [],
   "source": [
    "def feature_engineering(): #in This function, we engineer 2 new featurs BMI and Age groups for each Athles ...\n",
    "    df =pd.read_csv('datasets/results/full_clean_athletes.csv')\n",
    "    calculate_BMI(df)\n",
    "    calculate_AgeGroup(df)\n",
    "    \n",
    "    save_df(df,'datasets/results/full_clean_athletes_feature_engineered.csv')\n",
    "    print('FEATURE ENGINEERING SUCCESS')\n"
   ]
  },
  {
   "cell_type": "markdown",
   "id": "68e5107d-a579-4917-ab64-f69a6fb30078",
   "metadata": {},
   "source": [
    "# Air flow Pipeline"
   ]
  },
  {
   "cell_type": "code",
   "execution_count": null,
   "id": "61f58a2e-2158-476f-9c16-8c2efa5ade3b",
   "metadata": {},
   "outputs": [],
   "source": [
    "# THE TASKS\n",
    "data_read_clean = PythonOperator(\n",
    "    task_id='cleaning_data',\n",
    "    python_callable=data_cleaning,\n",
    "    dag=dag,\n",
    ")\n",
    "\n",
    "\n",
    "data_integration = PythonOperator(\n",
    "    task_id='data_integration',\n",
    "    python_callable=data_integration,\n",
    "    dag=dag,\n",
    ")\n",
    "\n",
    "\n",
    "data_feature_engineering = PythonOperator(\n",
    "    task_id='feature_engineering',\n",
    "    python_callable=feature_engineering,\n",
    "    dag=dag,\n",
    ")\n",
    "\n",
    "\n",
    "reading_task = PythonOperator(\n",
    "    task_id='reading_data',\n",
    "    python_callable=reading,\n",
    "    dag=dag,\n",
    ")\n",
    "\n",
    "\n",
    "saving_task = PythonOperator(\n",
    "    task_id='saving_data',\n",
    "    python_callable=saving,\n",
    "    dag=dag,\n",
    ")\n",
    "\n",
    "# DEPENDENCIES\n",
    "reading_task >> data_read_clean >> data_integration >> data_feature_engineering >> saving_task\n",
    "\n"
   ]
  },
  {
   "cell_type": "code",
   "execution_count": 20,
   "id": "08f3354f-a822-4d38-bb6c-29d60acf01ca",
   "metadata": {},
   "outputs": [
    {
     "data": {
      "image/png": "[encoded data removed]",
      "text/plain": [
       "<IPython.core.display.Image object>"
      ]
     },
     "execution_count": 20,
     "metadata": {},
     "output_type": "execute_result"
    }
   ],
   "source": [
    "from IPython import display\n",
    "display.Image('AiflowPipeline.png')"
   ]
  },
  {
   "cell_type": "code",
   "execution_count": null,
   "id": "1869ea7a-fefa-4267-a02b-e82aade07bd8",
   "metadata": {},
   "outputs": [],
   "source": [
    "\n"
   ]
  },
  {
   "cell_type": "code",
   "execution_count": null,
   "id": "8432eec5-fa51-43fc-bd29-e68a7688994a",
   "metadata": {},
   "outputs": [],
   "source": []
  },
  {
   "cell_type": "code",
   "execution_count": null,
   "id": "da2f3845-c752-45f0-8870-43d7e97716bb",
   "metadata": {},
   "outputs": [],
   "source": [
    "\n"
   ]
  },
  {
   "cell_type": "code",
   "execution_count": null,
   "id": "e70698c4-27b8-4fd2-92ce-ebf0b6002c9d",
   "metadata": {},
   "outputs": [],
   "source": []
  },
  {
   "cell_type": "code",
   "execution_count": null,
   "id": "6dd2b5b3-224f-4bc4-b551-e1e106348b93",
   "metadata": {},
   "outputs": [],
   "source": []
  },
  {
   "cell_type": "code",
   "execution_count": null,
   "id": "2d6e5518-26e1-4db0-8491-30354e949a5f",
   "metadata": {},
   "outputs": [],
   "source": []
  },
  {
   "cell_type": "code",
   "execution_count": null,
   "id": "ef6ed52d-ba3e-4b25-9ecb-bfb32479179a",
   "metadata": {},
   "outputs": [],
   "source": []
  }
 ],
 "metadata": {
  "kernelspec": {
   "display_name": "Python 3 (ipykernel)",
   "language": "python",
   "name": "python3"
  },
  "language_info": {
   "codemirror_mode": {
    "name": "ipython",
    "version": 3
   },
   "file_extension": ".py",
   "mimetype": "text/x-python",
   "name": "python",
   "nbconvert_exporter": "python",
   "pygments_lexer": "ipython3",
   "version": "3.8.11"
  }
 },
 "nbformat": 4,
 "nbformat_minor": 5
}
